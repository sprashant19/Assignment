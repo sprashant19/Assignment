{
  "nbformat": 4,
  "nbformat_minor": 0,
  "metadata": {
    "colab": {
      "provenance": [],
      "authorship_tag": "ABX9TyMeVcI3j0Jmp6PuKpXNT11J",
      "include_colab_link": true
    },
    "kernelspec": {
      "name": "python3",
      "display_name": "Python 3"
    },
    "language_info": {
      "name": "python"
    }
  },
  "cells": [
    {
      "cell_type": "markdown",
      "metadata": {
        "id": "view-in-github",
        "colab_type": "text"
      },
      "source": [
        "<a href=\"https://colab.research.google.com/github/sprashant19/Task/blob/main/Codekata.ipynb\" target=\"_parent\"><img src=\"https://colab.research.google.com/assets/colab-badge.svg\" alt=\"Open In Colab\"/></a>"
      ]
    },
    {
      "cell_type": "markdown",
      "source": [
        "1.Write a code to get the input in the given format and print the output in the\n",
        "given format\n",
        "\n",
        "Input Description:\n",
        "To take an integer value\n",
        "\n",
        "Output Description:\n",
        "Print the integer value\n",
        "\n",
        "Sample Input :\n",
        "\n",
        "2\n",
        "\n",
        "Sample Output :\n",
        "\n",
        "2"
      ],
      "metadata": {
        "id": "xtmnUtqUeJOT"
      }
    },
    {
      "cell_type": "code",
      "execution_count": null,
      "metadata": {
        "colab": {
          "base_uri": "https://localhost:8080/"
        },
        "id": "3NWTeEwWeDfu",
        "outputId": "bca0a476-f5a2-4505-9ce0-eb94b971c87b"
      },
      "outputs": [
        {
          "output_type": "stream",
          "name": "stdout",
          "text": [
            "Enter the Integer: 10\n",
            "10\n"
          ]
        }
      ],
      "source": [
        "N=int(input(\"Enter the Integer: \"))\n",
        "print(N)"
      ]
    },
    {
      "cell_type": "markdown",
      "source": [
        "2.Write a code to get the input in the given format and print the output in the given format\n",
        "\n",
        "Input Description:\n",
        "A single line contains integers separated by space\n",
        "\n",
        "Output Description:\n",
        "Print the integer list of integers separated by space\n",
        "\n",
        "Sample Input : \n",
        "2 3 4 5 6 7 8\n",
        "Sample Output : \n",
        "2 3 4 5 6 7 8"
      ],
      "metadata": {
        "id": "kUWZf3vlevC1"
      }
    },
    {
      "cell_type": "code",
      "source": [
        "n=list(map(int,input().split()))\n",
        "print(*n)"
      ],
      "metadata": {
        "colab": {
          "base_uri": "https://localhost:8080/"
        },
        "id": "nfdJ1daKe5LB",
        "outputId": "8a57a7b3-2b1a-4e9f-8ce4-04c59c97f699"
      },
      "execution_count": null,
      "outputs": [
        {
          "output_type": "stream",
          "name": "stdout",
          "text": [
            "1 2 3 4 5 6 7 8 9\n",
            "1 2 3 4 5 6 7 8 9\n"
          ]
        }
      ]
    },
    {
      "cell_type": "markdown",
      "source": [
        "Write a code to get the input in the given format and print the output in the given format.\n",
        "\n",
        "Input Description:\n",
        "First-line indicates two integers which are the size of array and 'K' value. Second-line indicates an integer contains elements of an array.\n",
        "\n",
        "Output Description:\n",
        "Print the taken input in the same format.\n",
        "\n",
        "Sample Input :\n",
        "5 3\n",
        "1 2 3 4 5\n",
        "Sample Output :\n",
        "5 3\n",
        "1 2 3 4 5"
      ],
      "metadata": {
        "id": "dP1SOIiZgAu0"
      }
    },
    {
      "cell_type": "code",
      "source": [
        "n=list(map(int,input().split()))\n",
        "a=list(map(int,input().split()))\n",
        "print(*n)\n",
        "print(*a)"
      ],
      "metadata": {
        "colab": {
          "base_uri": "https://localhost:8080/"
        },
        "id": "2PrB48rJgHKn",
        "outputId": "43ab3bec-4dae-4324-a4f0-9e44ed37540c"
      },
      "execution_count": null,
      "outputs": [
        {
          "output_type": "stream",
          "name": "stdout",
          "text": [
            "5 3\n",
            "1 2 3 4 5\n",
            "5 3\n",
            "1 2 3 4 5\n"
          ]
        }
      ]
    },
    {
      "cell_type": "markdown",
      "source": [
        "Write a code to get the input in the given format and print the output in the given format\n",
        "\n",
        "Input Description:\n",
        "\n",
        "First-line indicates two integers separated by space. Second-line indicates two integers separated by space. Third-line indicates two integers separated by space.\n",
        "\n",
        "Output Description:\n",
        "\n",
        "Print the input in the same format.\n",
        "\n",
        "Sample Input :\n",
        "\n",
        "2 4\n",
        "\n",
        "2 4\n",
        "\n",
        "2 4\n",
        "\n",
        "Sample Output :\n",
        "\n",
        "2 4\n",
        "\n",
        "2 4\n",
        "\n",
        "2 4"
      ],
      "metadata": {
        "id": "RfEcBSk-g4Xy"
      }
    },
    {
      "cell_type": "code",
      "source": [
        "a=list(map(int,input().split()))\n",
        "b=list(map(int,input().split()))\n",
        "c=list(map(int,input().split()))\n",
        "print(*a)\n",
        "print(*b)\n",
        "print(*c)"
      ],
      "metadata": {
        "colab": {
          "base_uri": "https://localhost:8080/"
        },
        "id": "VdzI6CLcg9yL",
        "outputId": "f34fa50a-b257-4a39-ec1e-98ad466f24a3"
      },
      "execution_count": null,
      "outputs": [
        {
          "output_type": "stream",
          "name": "stdout",
          "text": [
            "2 4 \n",
            "2 4\n",
            "2 4\n",
            "2 4\n",
            "2 4\n",
            "2 4\n"
          ]
        }
      ]
    },
    {
      "cell_type": "markdown",
      "source": [
        "Write a code to get the input in the given format and print the output in the given format\n",
        "\n",
        "Input Description:\n",
        "Three integers are given in line by line.\n",
        "\n",
        "Output Description:\n",
        "Print the integers in a single line separate by space.\n",
        "\n",
        "Sample Input :\n",
        "\n",
        "2\n",
        "\n",
        "4\n",
        "\n",
        "5\n",
        "\n",
        "Sample Output :\n",
        "\n",
        "2 4 5"
      ],
      "metadata": {
        "id": "wDGCbsSUh_0g"
      }
    },
    {
      "cell_type": "code",
      "source": [
        "a=int(input())\n",
        "b=int(input())\n",
        "c=int(input())\n",
        "print(a,b,c)"
      ],
      "metadata": {
        "colab": {
          "base_uri": "https://localhost:8080/"
        },
        "id": "ay_DPZYziEYg",
        "outputId": "42abf89e-43af-4000-cdd8-bef254c0be57"
      },
      "execution_count": null,
      "outputs": [
        {
          "output_type": "stream",
          "name": "stdout",
          "text": [
            "2 \n",
            "4 \n",
            "5\n",
            "2 4 5\n"
          ]
        }
      ]
    },
    {
      "cell_type": "markdown",
      "source": [
        "First-line indicates two integers separated by space. Second-line indicates three integers separated by space. Third-line indicates three integers separated by space\n",
        "\n",
        "Output Description:\n",
        "Print the input in the same format.\n",
        "\n",
        "Sample Input :\n",
        "\n",
        "2 5\n",
        "\n",
        "2 5 6\n",
        "\n",
        "2 4 5\n",
        "\n",
        "Sample Output :\n",
        "\n",
        "2 5\n",
        "\n",
        "2 5 6\n",
        "\n",
        "2 4 5"
      ],
      "metadata": {
        "id": "v7YMhip9ij6u"
      }
    },
    {
      "cell_type": "code",
      "source": [
        "a=list(map(int,input().split()))\n",
        "b=list(map(int,input().split()))\n",
        "c=list(map(int,input().split()))\n",
        "print(*a)\n",
        "print(*b)\n",
        "print(*c)"
      ],
      "metadata": {
        "colab": {
          "base_uri": "https://localhost:8080/"
        },
        "id": "jPUxMW3Wio1f",
        "outputId": "a082af13-7d13-4a89-95ea-9c53a8337ebe"
      },
      "execution_count": null,
      "outputs": [
        {
          "output_type": "stream",
          "name": "stdout",
          "text": [
            "2 5\n",
            "2 5 6\n",
            "2 4 5\n",
            "2 5\n",
            "2 5 6\n",
            "2 4 5\n"
          ]
        }
      ]
    },
    {
      "cell_type": "markdown",
      "source": [
        "Write a code to get the input in the given format and print the output in the given format\n",
        "\n",
        "Input Description:\n",
        "A single line contains a string.\n",
        "\n",
        "Output Description:\n",
        "Print the characters in a string separated by space.\n",
        "\n",
        "Sample Input :\n",
        "\n",
        "guvi\n",
        "\n",
        "Sample Output :\n",
        "\n",
        "g u v i"
      ],
      "metadata": {
        "id": "xMgVIEoTjChx"
      }
    },
    {
      "cell_type": "code",
      "source": [
        "i=str(input())\n",
        "c=[]\n",
        "for item in i:\n",
        "  c.append(item)\n",
        "print(*c)"
      ],
      "metadata": {
        "colab": {
          "base_uri": "https://localhost:8080/"
        },
        "id": "D8_KCcGwjHpf",
        "outputId": "bc55896f-fd3b-481d-af61-03b4dcbfe26d"
      },
      "execution_count": null,
      "outputs": [
        {
          "output_type": "stream",
          "name": "stdout",
          "text": [
            "prashant\n",
            "p r a s h a n t\n"
          ]
        }
      ]
    },
    {
      "cell_type": "markdown",
      "source": [
        "Write a code to get the input in the given format and print the output in the given format.\n",
        "\n",
        "Input Description:\n",
        "A single line contains three float values separated by space.\n",
        "\n",
        "Output Description:\n",
        "Print the float value separated by line.\n",
        "\n",
        "Sample Input :\n",
        "\n",
        "2.3 4.5 7.8\n",
        "\n",
        "Sample Output :\n",
        "\n",
        "2.3\n",
        "\n",
        "4.5\n",
        "\n",
        "7.8"
      ],
      "metadata": {
        "id": "dkSaQV9Mpudi"
      }
    },
    {
      "cell_type": "code",
      "source": [
        "n=list(map(float,input().split()))\n",
        "for item in n:\n",
        "  print(item)"
      ],
      "metadata": {
        "colab": {
          "base_uri": "https://localhost:8080/"
        },
        "id": "oFf5O4o3jSHb",
        "outputId": "bf198b44-12f4-4e4c-8da2-85f6ecd10349"
      },
      "execution_count": null,
      "outputs": [
        {
          "output_type": "stream",
          "name": "stdout",
          "text": [
            "2.3 4.5 7.8\n",
            "2.3\n",
            "4.5\n",
            "7.8\n"
          ]
        }
      ]
    },
    {
      "cell_type": "markdown",
      "source": [
        "Write a code to get the input in the given format and print the output in the given format.\n",
        "\n",
        "Input Description:\n",
        "A single line contains a string.\n",
        "\n",
        "Output Description:\n",
        "Print the characters in a string separated by line.\n",
        "\n",
        "Sample Input :\n",
        "\n",
        "guvigeek\n",
        "\n",
        "Sample Output :\n",
        "\n",
        "g\n",
        "\n",
        "u\n",
        "\n",
        "v\n",
        "\n",
        "i\n",
        "\n",
        "g\n",
        "\n",
        "e\n",
        "\n",
        "e\n",
        "\n",
        "k"
      ],
      "metadata": {
        "id": "zqU62pvRqMbG"
      }
    },
    {
      "cell_type": "code",
      "source": [
        "name=str(input())\n",
        "for item in name:\n",
        "  print(item)"
      ],
      "metadata": {
        "colab": {
          "base_uri": "https://localhost:8080/"
        },
        "id": "xuu6BK6cqRgp",
        "outputId": "a340ef1c-6d10-4022-fa3c-d565eaf3262e"
      },
      "execution_count": null,
      "outputs": [
        {
          "output_type": "stream",
          "name": "stdout",
          "text": [
            "guvigeek\n",
            "g\n",
            "u\n",
            "v\n",
            "i\n",
            "g\n",
            "e\n",
            "e\n",
            "k\n"
          ]
        }
      ]
    },
    {
      "cell_type": "markdown",
      "source": [
        "Write a code to get the input in the given format and print the output in the given format.\n",
        "\n",
        "Input Description:\n",
        "A single line contains a string.\n",
        "\n",
        "Output Description:\n",
        "Print the characters in a string separated by comma.\n",
        "\n",
        "Sample Input :\n",
        "\n",
        "guvi\n",
        "\n",
        "Sample Output :\n",
        "\n",
        "g,u,v,i"
      ],
      "metadata": {
        "id": "h73FyQM1qtIK"
      }
    },
    {
      "cell_type": "code",
      "source": [
        "s=str(input())\n",
        "for i in s:\n",
        "  printi,\",\")"
      ],
      "metadata": {
        "colab": {
          "base_uri": "https://localhost:8080/"
        },
        "id": "X7thoJ_gqygF",
        "outputId": "c093508a-88bf-41eb-9205-a88d8fc0c87e"
      },
      "execution_count": null,
      "outputs": [
        {
          "output_type": "stream",
          "name": "stdout",
          "text": [
            "guvi\n",
            "g ,\n",
            "u ,\n",
            "v ,\n",
            "i ,\n"
          ]
        }
      ]
    },
    {
      "cell_type": "markdown",
      "source": [
        "**STRINGS**"
      ],
      "metadata": {
        "id": "tG-eieP0nFIB"
      }
    },
    {
      "cell_type": "code",
      "source": [
        "#Sort words in Alphabetical order\n",
        "str1 = input()\n",
        "words = str1.split()\n",
        "words.sort()\n",
        "\n",
        "for word in words:\n",
        "  print(word)"
      ],
      "metadata": {
        "colab": {
          "base_uri": "https://localhost:8080/"
        },
        "id": "9f-lGw4KcjKa",
        "outputId": "d4a5ba17-f88f-4159-e3fe-55fbf58e6c4b"
      },
      "execution_count": 1,
      "outputs": [
        {
          "output_type": "stream",
          "name": "stdout",
          "text": [
            "Python is easy to learn\n",
            "Python\n",
            "easy\n",
            "is\n",
            "learn\n",
            "to\n"
          ]
        }
      ]
    },
    {
      "cell_type": "code",
      "source": [
        "#Remove punctuation from a sentence\n",
        "punc =  '''''!()-[]{};:'\"\\,<>./?@#$%^&*_~'''  \n",
        "str1 = input(\"Enter the sentence : \")\n",
        "\n",
        "no_punc = \"\"\n",
        "\n",
        "for char in str1:\n",
        "  if char not in punc:\n",
        "    no_punc = no_punc + char\n",
        "\n",
        "print(no_punc)"
      ],
      "metadata": {
        "colab": {
          "base_uri": "https://localhost:8080/"
        },
        "id": "o6wtMmB9dYfQ",
        "outputId": "ed5d2b29-3796-4a2e-d809-3672ff9bee4c"
      },
      "execution_count": 3,
      "outputs": [
        {
          "output_type": "stream",
          "name": "stdout",
          "text": [
            "Enter the sentence : Hey, all this is my \"first program\".\n",
            "Hey all this is my first program\n"
          ]
        }
      ]
    },
    {
      "cell_type": "code",
      "source": [
        "# reverse a string\n",
        "str1 = input()\n",
        "\n",
        "str1 = str1[::-1]\n",
        "\n",
        "print(str1)"
      ],
      "metadata": {
        "colab": {
          "base_uri": "https://localhost:8080/"
        },
        "id": "_iwYEi-1exrh",
        "outputId": "e1b32b26-97ba-4517-ec7d-426e64dc30c1"
      },
      "execution_count": 5,
      "outputs": [
        {
          "output_type": "stream",
          "name": "stdout",
          "text": [
            "Prashant\n",
            "tnahsarP\n"
          ]
        }
      ]
    },
    {
      "cell_type": "code",
      "source": [
        "# Convert list to string\n",
        "a_list =[\"Python\",\"Convert\",\"List\",\"String\",\"Method\"]\n",
        "\n",
        "str1 = \" \".join(a_list)\n",
        "print(str1)"
      ],
      "metadata": {
        "colab": {
          "base_uri": "https://localhost:8080/"
        },
        "id": "imVNQCEngWwh",
        "outputId": "1b3ba2c7-db40-4952-e65a-7d91d5f7d536"
      },
      "execution_count": 6,
      "outputs": [
        {
          "output_type": "stream",
          "name": "stdout",
          "text": [
            "Python Convert List String Method\n"
          ]
        }
      ]
    },
    {
      "cell_type": "code",
      "source": [
        "#Convert list to string when list contains integer elements\n",
        "a_list =[\"Python\",11,\"Convert\",\"List\",12,\"String\",14,\"Method\"]\n",
        "\n",
        "str1=\" \".join(map(str,a_list))\n",
        "\n",
        "print(str1)"
      ],
      "metadata": {
        "colab": {
          "base_uri": "https://localhost:8080/"
        },
        "id": "2Q9_dSjtg3zM",
        "outputId": "af3557ca-3cad-4177-fa11-43cdee2f8fa2"
      },
      "execution_count": 7,
      "outputs": [
        {
          "output_type": "stream",
          "name": "stdout",
          "text": [
            "Python 11 Convert List 12 String 14 Method\n"
          ]
        }
      ]
    },
    {
      "cell_type": "code",
      "source": [
        "#Convert list to string when list contains integer elements using list comprehension\n",
        "a_list =[\"Python\",11,\"Convert\",\"List\",12,\"String\",14,\"Method\"]\n",
        "\n",
        "str1=\" \".join(str(elements) for elements in a_list)\n",
        "\n",
        "print(str1)"
      ],
      "metadata": {
        "colab": {
          "base_uri": "https://localhost:8080/"
        },
        "id": "fiL3Hx4bhyUZ",
        "outputId": "14179690-6fed-42a9-9e09-87799eaa0f7e"
      },
      "execution_count": 8,
      "outputs": [
        {
          "output_type": "stream",
          "name": "stdout",
          "text": [
            "Python 11 Convert List 12 String 14 Method\n"
          ]
        }
      ]
    },
    {
      "cell_type": "code",
      "source": [
        "#Convert string using iteration\n",
        "a_list =[\"Python\",\"Convert\",\"List\",\"String\",\"Method\"]\n",
        "\n",
        "str1=\"\"\n",
        "\n",
        "for element in a_list:\n",
        "  str1=str1 + \" \" + element\n",
        "\n",
        "print(str1)"
      ],
      "metadata": {
        "colab": {
          "base_uri": "https://localhost:8080/"
        },
        "id": "mHix61EkiNpm",
        "outputId": "c97daadf-f4aa-4d1a-cb26-6adc271b04a8"
      },
      "execution_count": 9,
      "outputs": [
        {
          "output_type": "stream",
          "name": "stdout",
          "text": [
            " Python Convert List String Method\n"
          ]
        }
      ]
    },
    {
      "cell_type": "code",
      "source": [
        "#concatenate two strings using + operator\n",
        "\n",
        "str1=input(\"Enter first string : \")\n",
        "str2=input(\"Enter second string : \")\n",
        "\n",
        "str3 = str1 + str2\n",
        "\n",
        "print(str3)\n"
      ],
      "metadata": {
        "colab": {
          "base_uri": "https://localhost:8080/"
        },
        "id": "TOIUjdUQiNjW",
        "outputId": "ced7f829-4ee0-4d1e-d59b-22c87e067e21"
      },
      "execution_count": 12,
      "outputs": [
        {
          "output_type": "stream",
          "name": "stdout",
          "text": [
            "Enter first string : Pras\n",
            "Enter second string : hant\n",
            "Prashant\n"
          ]
        }
      ]
    },
    {
      "cell_type": "code",
      "source": [
        "#Concatenate two strings using join()\n",
        "str1=input(\"Enter first string : \")\n",
        "str2=input(\"Enter second string : \")\n",
        "\n",
        "str3 = \" \".join([str1,str2])\n",
        "\n",
        "print(str3)"
      ],
      "metadata": {
        "colab": {
          "base_uri": "https://localhost:8080/"
        },
        "id": "sI9d8qynlG-x",
        "outputId": "a892cbe6-e960-4d56-bff2-83ed7b2db127"
      },
      "execution_count": 13,
      "outputs": [
        {
          "output_type": "stream",
          "name": "stdout",
          "text": [
            "Enter first string : Python\n",
            "Enter second string : Programs\n",
            "Python Programs\n"
          ]
        }
      ]
    },
    {
      "cell_type": "code",
      "source": [
        "#Concatenate two strings using % operator\n",
        "str1=input(\"Enter first string : \")\n",
        "str2=input(\"Enter second string : \")\n",
        "\n",
        "print(\"%s%s\"%(str1,str2))"
      ],
      "metadata": {
        "colab": {
          "base_uri": "https://localhost:8080/"
        },
        "id": "-w-l9qoLlfBg",
        "outputId": "ba18d1ab-50a6-4bbd-936f-ebf37f01a9eb"
      },
      "execution_count": 14,
      "outputs": [
        {
          "output_type": "stream",
          "name": "stdout",
          "text": [
            "Enter first string : Python\n",
            "Enter second string : Program\n",
            "PythonProgram\n"
          ]
        }
      ]
    },
    {
      "cell_type": "code",
      "source": [
        "#Concatenate two strings using format function\n",
        "str1=input(\"Enter first string : \")\n",
        "str2=input(\"Enter second string : \")\n",
        "\n",
        "print(\"{} {}\".format(str1,str2))\n",
        "\n"
      ],
      "metadata": {
        "colab": {
          "base_uri": "https://localhost:8080/"
        },
        "id": "Crh2kFlWl2Yz",
        "outputId": "a751ce0a-d635-4a98-e603-0cd8efb3ebe3"
      },
      "execution_count": 15,
      "outputs": [
        {
          "output_type": "stream",
          "name": "stdout",
          "text": [
            "Enter first string : Python\n",
            "Enter second string : Programming\n",
            "Python Programming\n"
          ]
        }
      ]
    },
    {
      "cell_type": "markdown",
      "source": [
        "**LISTS**"
      ],
      "metadata": {
        "id": "ymHShS6pnIj4"
      }
    },
    {
      "cell_type": "code",
      "source": [],
      "metadata": {
        "id": "MrxL9AbwnK0B"
      },
      "execution_count": null,
      "outputs": []
    }
  ]
}