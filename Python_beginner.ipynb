{
  "nbformat": 4,
  "nbformat_minor": 0,
  "metadata": {
    "colab": {
      "name": "Python_beginner.ipynb",
      "provenance": [],
      "authorship_tag": "ABX9TyPJV4HExTDr/HVd467b7e2I",
      "include_colab_link": true
    },
    "kernelspec": {
      "name": "python3",
      "display_name": "Python 3"
    },
    "language_info": {
      "name": "python"
    }
  },
  "cells": [
    {
      "cell_type": "markdown",
      "metadata": {
        "id": "view-in-github",
        "colab_type": "text"
      },
      "source": [
        "<a href=\"https://colab.research.google.com/github/sprashant19/Task/blob/main/Python_beginner.ipynb\" target=\"_parent\"><img src=\"https://colab.research.google.com/assets/colab-badge.svg\" alt=\"Open In Colab\"/></a>"
      ]
    },
    {
      "cell_type": "markdown",
      "source": [
        "1. Let \"A\"  be a string. Remove all the whitespaces and find it's length."
      ],
      "metadata": {
        "id": "Cb10Ebf5z1jL"
      }
    },
    {
      "cell_type": "code",
      "execution_count": 2,
      "metadata": {
        "colab": {
          "base_uri": "https://localhost:8080/"
        },
        "id": "8FdICtdMzsLk",
        "outputId": "b30d31e0-74cb-4fe6-d997-61450b3d5f6f"
      },
      "outputs": [
        {
          "output_type": "stream",
          "name": "stdout",
          "text": [
            "Lorem Ipsum\n",
            "10\n"
          ]
        }
      ],
      "source": [
        "A=str(input())\n",
        "count=0\n",
        "for i in range(0,len(A)):\n",
        "  if (A[i]!=\" \"):\n",
        "    count=count+1\n",
        "print(count)"
      ]
    },
    {
      "cell_type": "markdown",
      "source": [
        "2. You are provided with a number \"N\", Find the Nth term of the series: 1, 4, 9, 16, 25, 36, 49, 64, 81, ......."
      ],
      "metadata": {
        "id": "eN-00kvT0hjr"
      }
    },
    {
      "cell_type": "code",
      "source": [
        "N=int(input())\n",
        "c=[]\n",
        "if N>0:\n",
        "    for i in range(1,N+1):\n",
        "        p=i*i\n",
        "        c.append(p)\n",
        "    print(c[N-1])\n",
        "elif N==0:\n",
        "  print(0)\n",
        "else:\n",
        "  print(\"Error\")"
      ],
      "metadata": {
        "colab": {
          "base_uri": "https://localhost:8080/"
        },
        "id": "nLM8vS390jke",
        "outputId": "6fa4fbfd-ade7-4462-977e-17d7705b89c8"
      },
      "execution_count": 3,
      "outputs": [
        {
          "output_type": "stream",
          "name": "stdout",
          "text": [
            "5\n",
            "25\n"
          ]
        }
      ]
    },
    {
      "cell_type": "markdown",
      "source": [
        "3. Write a code to get an integer N and print the sum of  values from 1 to N."
      ],
      "metadata": {
        "id": "lHAfLy4O04jG"
      }
    },
    {
      "cell_type": "code",
      "source": [
        "N=int(input())\n",
        "sum=0\n",
        "for i in range(1,N+1):\n",
        "  sum=i+sum\n",
        "print(sum)"
      ],
      "metadata": {
        "colab": {
          "base_uri": "https://localhost:8080/"
        },
        "id": "YVTS9Lfe06ZS",
        "outputId": "5cc1a393-203d-41ea-a12c-3a5fc226fadb"
      },
      "execution_count": 4,
      "outputs": [
        {
          "output_type": "stream",
          "name": "stdout",
          "text": [
            "5\n",
            "15\n"
          ]
        }
      ]
    },
    {
      "cell_type": "markdown",
      "source": [
        "4. You are given Two Numbers, A and B. If C = A + B. Find C.\n",
        "\n",
        "Note: Round off the output to a single decimal place."
      ],
      "metadata": {
        "id": "TUi2bzKt0_1-"
      }
    },
    {
      "cell_type": "code",
      "source": [
        "A=int(input())\n",
        "B=int(input())\n",
        "C=A+B\n",
        "print(C)"
      ],
      "metadata": {
        "colab": {
          "base_uri": "https://localhost:8080/"
        },
        "id": "EeT2OtTM1G0H",
        "outputId": "bd5d84e5-5ea4-4a07-9486-9094e5228695"
      },
      "execution_count": 5,
      "outputs": [
        {
          "output_type": "stream",
          "name": "stdout",
          "text": [
            "5\n",
            "4\n",
            "9\n"
          ]
        }
      ]
    },
    {
      "cell_type": "markdown",
      "source": [
        "5. Write a program to get a string as input and reverse the string without using temporary variable."
      ],
      "metadata": {
        "id": "kQ94dpIe1Tvz"
      }
    },
    {
      "cell_type": "code",
      "source": [
        "str1=str(input())\n",
        "str1=str1[::-1]\n",
        "print(str1)"
      ],
      "metadata": {
        "colab": {
          "base_uri": "https://localhost:8080/"
        },
        "id": "ytvU1O5C1VQO",
        "outputId": "f6f9e0cc-096b-444c-b20f-a669d95f78a6"
      },
      "execution_count": 6,
      "outputs": [
        {
          "output_type": "stream",
          "name": "stdout",
          "text": [
            "Python\n",
            "nohtyP\n"
          ]
        }
      ]
    },
    {
      "cell_type": "markdown",
      "source": [
        "6. You are provided with the radius of a circle \"A\". Find the length of its circumference.\n",
        "\n",
        "Note: In case the output is coming in decimal, roundoff to 2nd decimal place. In case the input is a negative number, print \"Error\"."
      ],
      "metadata": {
        "id": "26jYn2R21fki"
      }
    },
    {
      "cell_type": "code",
      "source": [
        "A=float(input())\n",
        "if A>=0:\n",
        "  C=2*(22/7)*A\n",
        "  c=round(C,2)\n",
        "  print(c)\n",
        "else:\n",
        "  print(\"Error\")"
      ],
      "metadata": {
        "colab": {
          "base_uri": "https://localhost:8080/"
        },
        "id": "eXLVTHJ-1hKd",
        "outputId": "fad79c54-419c-4775-942a-633bafeafc69"
      },
      "execution_count": 7,
      "outputs": [
        {
          "output_type": "stream",
          "name": "stdout",
          "text": [
            "2.5\n",
            "15.71\n"
          ]
        }
      ]
    },
    {
      "cell_type": "markdown",
      "source": [
        "7. Write a code to get an integer N and print the values from N to 1."
      ],
      "metadata": {
        "id": "OSQ_Vrhg1oWK"
      }
    },
    {
      "cell_type": "code",
      "source": [
        "n=int(input())\n",
        "for i in range(1,n+1):\n",
        "  print(n)\n",
        "  n=n-1"
      ],
      "metadata": {
        "colab": {
          "base_uri": "https://localhost:8080/"
        },
        "id": "RJiaYdsN1xCv",
        "outputId": "b229fec5-db58-4b91-d3fe-88dea58997d5"
      },
      "execution_count": 8,
      "outputs": [
        {
          "output_type": "stream",
          "name": "stdout",
          "text": [
            "10\n",
            "10\n",
            "9\n",
            "8\n",
            "7\n",
            "6\n",
            "5\n",
            "4\n",
            "3\n",
            "2\n",
            "1\n"
          ]
        }
      ]
    },
    {
      "cell_type": "markdown",
      "source": [
        "8. Write a code get an integer number as input and print the sum of the digits."
      ],
      "metadata": {
        "id": "hrlk0xoS13L4"
      }
    },
    {
      "cell_type": "code",
      "source": [
        "n=int(input())\n",
        "s=0\n",
        "while (n>0):\n",
        "  N=n%10\n",
        "  s=s+N\n",
        "  n=n//10\n",
        "print(s)"
      ],
      "metadata": {
        "colab": {
          "base_uri": "https://localhost:8080/"
        },
        "id": "KELQW1jX19xY",
        "outputId": "457b6ef3-3436-4312-fd72-2ba2b576e69f"
      },
      "execution_count": 10,
      "outputs": [
        {
          "output_type": "stream",
          "name": "stdout",
          "text": [
            "123\n",
            "6\n"
          ]
        }
      ]
    },
    {
      "cell_type": "markdown",
      "source": [
        "9. Let \"A\" be a year, write a program to check whether this year is a leap year or not.\n",
        "\n",
        "Print \"Y\" if its a leap year and \"N\" if its a common year."
      ],
      "metadata": {
        "id": "qoORX75u2GqE"
      }
    },
    {
      "cell_type": "code",
      "source": [
        "A=int(input())\n",
        "if A%4==0:\n",
        "  print(\"Y\")\n",
        "else:\n",
        "  print(\"N\")"
      ],
      "metadata": {
        "colab": {
          "base_uri": "https://localhost:8080/"
        },
        "id": "qbCXii-72MbF",
        "outputId": "bdd6ae7c-d77a-4e8a-f3c9-40a68d31f8da"
      },
      "execution_count": 11,
      "outputs": [
        {
          "output_type": "stream",
          "name": "stdout",
          "text": [
            "2012\n",
            "Y\n"
          ]
        }
      ]
    },
    {
      "cell_type": "markdown",
      "source": [
        "10. You will be provided with a number. Print the number of days in the month corresponding to that number.\n",
        "\n",
        "Note: In case the input is February, print 28 days. If the Input is not in valid range print \"Error\"."
      ],
      "metadata": {
        "id": "KfPmEGfg2RpQ"
      }
    },
    {
      "cell_type": "code",
      "source": [
        "N=int(input())\n",
        "if N  in [1,3,5,7,8,10,12]:\n",
        "  print(31)\n",
        "elif N in [4,6,9,11]:\n",
        "  print(30)\n",
        "elif N==2:\n",
        "  print(28)\n",
        "else:\n",
        "  print(\"Error\")"
      ],
      "metadata": {
        "colab": {
          "base_uri": "https://localhost:8080/"
        },
        "id": "w4OAFDst2WDJ",
        "outputId": "56e39216-c528-433b-b10b-6274a5ae0386"
      },
      "execution_count": 13,
      "outputs": [
        {
          "output_type": "stream",
          "name": "stdout",
          "text": [
            "5\n",
            "31\n"
          ]
        }
      ]
    },
    {
      "cell_type": "markdown",
      "source": [
        "11. Write a code to get an integer N and print values from 1 till N in a separate line."
      ],
      "metadata": {
        "id": "1WZQSBL12hRq"
      }
    },
    {
      "cell_type": "code",
      "source": [
        "N=int(input())\n",
        "for i in range(1,N+1):\n",
        "    print(i)"
      ],
      "metadata": {
        "colab": {
          "base_uri": "https://localhost:8080/"
        },
        "id": "K9ARggob2qKy",
        "outputId": "64e474fd-1fc1-4148-cb45-181ce3432414"
      },
      "execution_count": 15,
      "outputs": [
        {
          "output_type": "stream",
          "name": "stdout",
          "text": [
            "20\n",
            "1\n",
            "2\n",
            "3\n",
            "4\n",
            "5\n",
            "6\n",
            "7\n",
            "8\n",
            "9\n",
            "10\n",
            "11\n",
            "12\n",
            "13\n",
            "14\n",
            "15\n",
            "16\n",
            "17\n",
            "18\n",
            "19\n",
            "20\n"
          ]
        }
      ]
    },
    {
      "cell_type": "markdown",
      "source": [
        "12. Write a code to get an integer N and print the even values from 1 till N in a separate line."
      ],
      "metadata": {
        "id": "DXQsJYZV2yxE"
      }
    },
    {
      "cell_type": "code",
      "source": [
        "N=int(input())\n",
        "for i in range(1,N+1):\n",
        "    if(i%2==0):\n",
        "        print(i)\n",
        "    else:\n",
        "        continue"
      ],
      "metadata": {
        "colab": {
          "base_uri": "https://localhost:8080/"
        },
        "id": "2y2VIMBj23YZ",
        "outputId": "bef3b6f7-1665-4e54-8136-0463e222fc1b"
      },
      "execution_count": 16,
      "outputs": [
        {
          "output_type": "stream",
          "name": "stdout",
          "text": [
            "10\n",
            "2\n",
            "4\n",
            "6\n",
            "8\n",
            "10\n"
          ]
        }
      ]
    },
    {
      "cell_type": "markdown",
      "source": [
        "13. Write a code to get 2 integers A and N. Print the integer A, N times in separate line."
      ],
      "metadata": {
        "id": "J5ponf8G28vu"
      }
    },
    {
      "cell_type": "code",
      "source": [
        "A,N=[int(A) for A in input().split()]\n",
        "for i in range(0,N):\n",
        "  print(A)"
      ],
      "metadata": {
        "colab": {
          "base_uri": "https://localhost:8080/"
        },
        "id": "THZhp47W3C9x",
        "outputId": "9a9174ee-95e8-4cd8-c8f1-4f2a5719d92d"
      },
      "execution_count": 17,
      "outputs": [
        {
          "output_type": "stream",
          "name": "stdout",
          "text": [
            "2 3\n",
            "2\n",
            "2\n",
            "2\n"
          ]
        }
      ]
    },
    {
      "cell_type": "markdown",
      "source": [
        "14. You are given a number A in Kilometers. Convert this into B: Meters and C: Centi-Metres."
      ],
      "metadata": {
        "id": "JWGOCJD63J4M"
      }
    },
    {
      "cell_type": "code",
      "source": [
        "A=int(input())\n",
        "B=A*1000\n",
        "C=A*100000\n",
        "print(B)\n",
        "print(C)"
      ],
      "metadata": {
        "colab": {
          "base_uri": "https://localhost:8080/"
        },
        "id": "06t-Pp_v3HFu",
        "outputId": "c101e1c1-9ef9-4c8d-f374-e238b530ff0e"
      },
      "execution_count": 18,
      "outputs": [
        {
          "output_type": "stream",
          "name": "stdout",
          "text": [
            "5\n",
            "5000\n",
            "500000\n"
          ]
        }
      ]
    },
    {
      "cell_type": "markdown",
      "source": [
        "15. You are given with a number A i.e. the temperature in Celcius. Write a program to convert this into Fahrenheit. \n",
        "\n",
        "Note: In case of decimal values, round-off to two decimal places."
      ],
      "metadata": {
        "id": "5UT_LEQx3VUu"
      }
    },
    {
      "cell_type": "code",
      "source": [
        "A=float(input())\n",
        "print(round((A*1.8)+32,2))"
      ],
      "metadata": {
        "colab": {
          "base_uri": "https://localhost:8080/"
        },
        "id": "fwOM72n63a75",
        "outputId": "6d2b686b-9977-4cd2-81ba-ef142a67de76"
      },
      "execution_count": 20,
      "outputs": [
        {
          "output_type": "stream",
          "name": "stdout",
          "text": [
            "43\n",
            "109.4\n"
          ]
        }
      ]
    },
    {
      "cell_type": "markdown",
      "source": [
        "16. Write a code to get the input and print it 5 times."
      ],
      "metadata": {
        "id": "l3hFPcjg3kRv"
      }
    },
    {
      "cell_type": "code",
      "source": [
        "a=input()\n",
        "for i in range(5):\n",
        "    print(a)"
      ],
      "metadata": {
        "colab": {
          "base_uri": "https://localhost:8080/"
        },
        "id": "yxJQDW2e3pS8",
        "outputId": "79859b57-7369-41c2-a352-e1e6ca0590b2"
      },
      "execution_count": 21,
      "outputs": [
        {
          "output_type": "stream",
          "name": "stdout",
          "text": [
            "25\n",
            "25\n",
            "25\n",
            "25\n",
            "25\n",
            "25\n"
          ]
        }
      ]
    },
    {
      "cell_type": "markdown",
      "source": [
        "17. You are given A = Length of a rectangle & B = breadth of a rectangle. Find its area “C”.\n",
        "\n",
        "(A and B are natural numbers)"
      ],
      "metadata": {
        "id": "2KaWq-uL3tM8"
      }
    },
    {
      "cell_type": "code",
      "source": [
        "A=int(input())\n",
        "B=int(input())\n",
        "if A<0 or B<0:\n",
        "    print(\"Negative Number\")\n",
        "else:\n",
        "    Area=A*B\n",
        "    print(Area)"
      ],
      "metadata": {
        "colab": {
          "base_uri": "https://localhost:8080/"
        },
        "id": "YBLqCS1e3s5E",
        "outputId": "ef12ccaf-e536-47f3-b021-f34e1374b071"
      },
      "execution_count": 25,
      "outputs": [
        {
          "output_type": "stream",
          "name": "stdout",
          "text": [
            "-52\n",
            "45\n",
            "Negative Number\n"
          ]
        }
      ]
    },
    {
      "cell_type": "markdown",
      "source": [
        "18. You are given with Principle amount($), Interest Rate(%) and Time (years) in that order. Find Simple Interest.\n",
        "\n",
        "Print the output up to two decimal places (Round-off if necessary).\n",
        "\n",
        "(S.I. = P*T*R/100)"
      ],
      "metadata": {
        "id": "B0WW1lno4Ccd"
      }
    },
    {
      "cell_type": "code",
      "source": [
        "P,I,T=[float(x) for x in input().split()]\n",
        "SI = P*I*T/100\n",
        "print(round(SI,2))"
      ],
      "metadata": {
        "colab": {
          "base_uri": "https://localhost:8080/"
        },
        "id": "3us6QOes4IYw",
        "outputId": "63fa14dc-767b-450f-cb5f-72b4b03ed79c"
      },
      "execution_count": 26,
      "outputs": [
        {
          "output_type": "stream",
          "name": "stdout",
          "text": [
            "1000 2 5\n",
            "100.0\n"
          ]
        }
      ]
    },
    {
      "cell_type": "markdown",
      "source": [
        "19. You are provided with a number, \"N\". Find its factorial."
      ],
      "metadata": {
        "id": "tPX_F6hE4Pkv"
      }
    },
    {
      "cell_type": "code",
      "source": [
        "a=int(input())\n",
        "factorial=1\n",
        "if a<0:\n",
        "    print(a)\n",
        "elif a==0:\n",
        "    print(1)\n",
        "else:\n",
        "    for i in range(1,a+1):\n",
        "        factorial=factorial*i\n",
        "    print(factorial)"
      ],
      "metadata": {
        "colab": {
          "base_uri": "https://localhost:8080/"
        },
        "id": "miiELfyN4Uc0",
        "outputId": "23e03896-210a-4d9a-b328-50aeae03eeae"
      },
      "execution_count": 27,
      "outputs": [
        {
          "output_type": "stream",
          "name": "stdout",
          "text": [
            "5\n",
            "120\n"
          ]
        }
      ]
    },
    {
      "cell_type": "markdown",
      "source": [
        "20. You are given three numbers A, B & C. Print the largest amongst these three numbers."
      ],
      "metadata": {
        "id": "hlrf_DcC4Zmb"
      }
    },
    {
      "cell_type": "code",
      "source": [
        "A=int(input())\n",
        "B=int(input())\n",
        "C=int(input())\n",
        "if A>=B & A>=C:\n",
        "    print(A)\n",
        "elif B>=A & B>=C:\n",
        "    print(B)\n",
        "else:\n",
        "    print(C)"
      ],
      "metadata": {
        "colab": {
          "base_uri": "https://localhost:8080/"
        },
        "id": "f9yYTU5Y4eHB",
        "outputId": "58b189bc-7a67-4a37-c6e6-67eb49ad6eda"
      },
      "execution_count": 29,
      "outputs": [
        {
          "output_type": "stream",
          "name": "stdout",
          "text": [
            "45\n",
            "14\n",
            "78\n",
            "78\n"
          ]
        }
      ]
    }
  ]
}