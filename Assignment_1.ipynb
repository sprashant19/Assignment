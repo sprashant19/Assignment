{
  "nbformat": 4,
  "nbformat_minor": 0,
  "metadata": {
    "colab": {
      "name": "Assignment 1",
      "provenance": [],
      "collapsed_sections": [],
      "authorship_tag": "ABX9TyNHVYgRg5K7636NrR1MsVIN",
      "include_colab_link": true
    },
    "kernelspec": {
      "name": "python3",
      "display_name": "Python 3"
    },
    "language_info": {
      "name": "python"
    }
  },
  "cells": [
    {
      "cell_type": "markdown",
      "metadata": {
        "id": "view-in-github",
        "colab_type": "text"
      },
      "source": [
        "<a href=\"https://colab.research.google.com/github/sprashant19/Assignment/blob/main/Assignment_1.ipynb\" target=\"_parent\"><img src=\"https://colab.research.google.com/assets/colab-badge.svg\" alt=\"Open In Colab\"/></a>"
      ]
    },
    {
      "cell_type": "code",
      "execution_count": 25,
      "metadata": {
        "id": "-pL-E8BwD--h"
      },
      "outputs": [],
      "source": [
        "import matplotlib.pyplot as plt\n"
      ]
    },
    {
      "cell_type": "code",
      "source": [
        "fig=plt.figure()\n",
        "f1=plt.subplot2grid((5,6),(0,0),rowspan=1,colspan=3)\n",
        "f2=plt.subplot2grid((5,6),(0,3),rowspan=1)\n",
        "f3=plt.subplot2grid((5,6),(0,4),rowspan=1,colspan=2)\n",
        "f4=plt.subplot2grid((5,6),(1,0),rowspan=3,colspan=1)\n",
        "f5=plt.subplot2grid((5,6),(1,1),rowspan=1,colspan=2)\n",
        "f6=plt.subplot2grid((5,6),(1,3),rowspan=1,colspan=3)\n",
        "f7=plt.subplot2grid((5,6),(2,1),rowspan=1,colspan=1)\n",
        "f8=plt.subplot2grid((5,6),(3,1),rowspan=1,colspan=1)\n",
        "f9=plt.subplot2grid((5,6),(4,0),rowspan=1,colspan=2)\n",
        "f10=plt.subplot2grid((5,6),(2,2),rowspan=3,colspan=2)\n",
        "f11=plt.subplot2grid((5,6),(2,4),rowspan=3,colspan=1)\n",
        "f12=plt.subplot2grid((5,6),(2,5),rowspan=3,colspan=1)\n",
        "plt.tight_layout()\n",
        "plt.show()"
      ],
      "metadata": {
        "colab": {
          "base_uri": "https://localhost:8080/",
          "height": 297
        },
        "id": "N9o5WSEJEQ6K",
        "outputId": "97a85c63-7cef-4421-e80f-d8f0c7be4cbe"
      },
      "execution_count": 26,
      "outputs": [
        {
          "output_type": "display_data",
          "data": {
            "image/png": "[encoded data removed]",
            "text/plain": [
              "<Figure size 432x288 with 12 Axes>"
            ]
          },
          "metadata": {
            "needs_background": "light"
          }
        }
      ]
    }
  ]
}